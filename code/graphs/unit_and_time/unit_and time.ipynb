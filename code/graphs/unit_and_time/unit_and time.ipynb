{
 "cells": [
  {
   "cell_type": "code",
   "execution_count": 1,
   "metadata": {},
   "outputs": [],
   "source": [
    "import pandas as pd\n",
    "import matplotlib.pyplot as plt\n",
    "import datetime\n",
    "import seaborn as sns\n",
    "\n"
   ]
  },
  {
   "cell_type": "code",
   "execution_count": 2,
   "metadata": {},
   "outputs": [],
   "source": [
    "#create dataframe from the csv file\n",
    "df=pd.read_csv(\"sfpd_dispatch_data_subset.csv\")"
   ]
  },
  {
   "cell_type": "code",
   "execution_count": 3,
   "metadata": {},
   "outputs": [],
   "source": [
    "df.received_timestamp=pd.to_datetime(df.received_timestamp)\n",
    "df.on_scene_timestamp=pd.to_datetime(df.on_scene_timestamp)"
   ]
  },
  {
   "cell_type": "code",
   "execution_count": 4,
   "metadata": {},
   "outputs": [],
   "source": [
    "times= pd.DataFrame(df['on_scene_timestamp']-df['received_timestamp'])   #find timedelta"
   ]
  },
  {
   "cell_type": "code",
   "execution_count": 5,
   "metadata": {},
   "outputs": [],
   "source": [
    "times['unit_type']= (df['unit_type'])"
   ]
  },
  {
   "cell_type": "code",
   "execution_count": 6,
   "metadata": {},
   "outputs": [
    {
     "data": {
      "text/html": [
       "<div>\n",
       "<style scoped>\n",
       "    .dataframe tbody tr th:only-of-type {\n",
       "        vertical-align: middle;\n",
       "    }\n",
       "\n",
       "    .dataframe tbody tr th {\n",
       "        vertical-align: top;\n",
       "    }\n",
       "\n",
       "    .dataframe thead th {\n",
       "        text-align: right;\n",
       "    }\n",
       "</style>\n",
       "<table border=\"1\" class=\"dataframe\">\n",
       "  <thead>\n",
       "    <tr style=\"text-align: right;\">\n",
       "      <th></th>\n",
       "      <th>0</th>\n",
       "      <th>unit_type</th>\n",
       "    </tr>\n",
       "  </thead>\n",
       "  <tbody>\n",
       "    <tr>\n",
       "      <th>0</th>\n",
       "      <td>00:17:26</td>\n",
       "      <td>MEDIC</td>\n",
       "    </tr>\n",
       "    <tr>\n",
       "      <th>1</th>\n",
       "      <td>00:13:57</td>\n",
       "      <td>MEDIC</td>\n",
       "    </tr>\n",
       "    <tr>\n",
       "      <th>2</th>\n",
       "      <td>00:05:41</td>\n",
       "      <td>ENGINE</td>\n",
       "    </tr>\n",
       "    <tr>\n",
       "      <th>3</th>\n",
       "      <td>00:04:02</td>\n",
       "      <td>ENGINE</td>\n",
       "    </tr>\n",
       "    <tr>\n",
       "      <th>4</th>\n",
       "      <td>00:06:07</td>\n",
       "      <td>CHIEF</td>\n",
       "    </tr>\n",
       "  </tbody>\n",
       "</table>\n",
       "</div>"
      ],
      "text/plain": [
       "         0 unit_type\n",
       "0 00:17:26     MEDIC\n",
       "1 00:13:57     MEDIC\n",
       "2 00:05:41    ENGINE\n",
       "3 00:04:02    ENGINE\n",
       "4 00:06:07     CHIEF"
      ]
     },
     "execution_count": 6,
     "metadata": {},
     "output_type": "execute_result"
    }
   ],
   "source": [
    "times.head()"
   ]
  },
  {
   "cell_type": "code",
   "execution_count": 7,
   "metadata": {},
   "outputs": [],
   "source": [
    "times['minutes'] = (times[0].dt.total_seconds()//60) #convert to minutes\n"
   ]
  },
  {
   "cell_type": "code",
   "execution_count": 8,
   "metadata": {},
   "outputs": [
    {
     "name": "stdout",
     "output_type": "stream",
     "text": [
      "<class 'pandas.core.frame.DataFrame'>\n",
      "Int64Index: 8085 entries, 0 to 9999\n",
      "Data columns (total 3 columns):\n",
      "0            8085 non-null timedelta64[ns]\n",
      "unit_type    8085 non-null object\n",
      "minutes      8085 non-null float64\n",
      "dtypes: float64(1), object(1), timedelta64[ns](1)\n",
      "memory usage: 252.7+ KB\n"
     ]
    }
   ],
   "source": [
    "times.dropna(inplace=True) #remove nan values\n",
    "times.info()"
   ]
  },
  {
   "cell_type": "code",
   "execution_count": 9,
   "metadata": {},
   "outputs": [],
   "source": [
    "avg_times=times.groupby('unit_type', as_index=False)['minutes'].mean() #group to find mean"
   ]
  },
  {
   "cell_type": "code",
   "execution_count": 10,
   "metadata": {},
   "outputs": [
    {
     "data": {
      "text/html": [
       "<div>\n",
       "<style scoped>\n",
       "    .dataframe tbody tr th:only-of-type {\n",
       "        vertical-align: middle;\n",
       "    }\n",
       "\n",
       "    .dataframe tbody tr th {\n",
       "        vertical-align: top;\n",
       "    }\n",
       "\n",
       "    .dataframe thead th {\n",
       "        text-align: right;\n",
       "    }\n",
       "</style>\n",
       "<table border=\"1\" class=\"dataframe\">\n",
       "  <thead>\n",
       "    <tr style=\"text-align: right;\">\n",
       "      <th></th>\n",
       "      <th>minutes</th>\n",
       "    </tr>\n",
       "    <tr>\n",
       "      <th>unit_type</th>\n",
       "      <th></th>\n",
       "    </tr>\n",
       "  </thead>\n",
       "  <tbody>\n",
       "    <tr>\n",
       "      <th>CHIEF</th>\n",
       "      <td>9.538462</td>\n",
       "    </tr>\n",
       "    <tr>\n",
       "      <th>ENGINE</th>\n",
       "      <td>7.534033</td>\n",
       "    </tr>\n",
       "    <tr>\n",
       "      <th>INVESTIGATION</th>\n",
       "      <td>26.181818</td>\n",
       "    </tr>\n",
       "    <tr>\n",
       "      <th>MEDIC</th>\n",
       "      <td>11.225997</td>\n",
       "    </tr>\n",
       "    <tr>\n",
       "      <th>PRIVATE</th>\n",
       "      <td>11.516161</td>\n",
       "    </tr>\n",
       "    <tr>\n",
       "      <th>RESCUE CAPTAIN</th>\n",
       "      <td>12.855491</td>\n",
       "    </tr>\n",
       "    <tr>\n",
       "      <th>RESCUE SQUAD</th>\n",
       "      <td>6.675676</td>\n",
       "    </tr>\n",
       "    <tr>\n",
       "      <th>SUPPORT</th>\n",
       "      <td>23.300000</td>\n",
       "    </tr>\n",
       "    <tr>\n",
       "      <th>TRUCK</th>\n",
       "      <td>6.894904</td>\n",
       "    </tr>\n",
       "  </tbody>\n",
       "</table>\n",
       "</div>"
      ],
      "text/plain": [
       "                  minutes\n",
       "unit_type                \n",
       "CHIEF            9.538462\n",
       "ENGINE           7.534033\n",
       "INVESTIGATION   26.181818\n",
       "MEDIC           11.225997\n",
       "PRIVATE         11.516161\n",
       "RESCUE CAPTAIN  12.855491\n",
       "RESCUE SQUAD     6.675676\n",
       "SUPPORT         23.300000\n",
       "TRUCK            6.894904"
      ]
     },
     "execution_count": 10,
     "metadata": {},
     "output_type": "execute_result"
    }
   ],
   "source": [
    "avg_times.set_index('unit_type')"
   ]
  },
  {
   "cell_type": "code",
   "execution_count": 11,
   "metadata": {},
   "outputs": [
    {
     "data": {
      "image/png": "[encoded data removed]",
      "text/plain": [
       "<Figure size 1080x720 with 1 Axes>"
      ]
     },
     "metadata": {},
     "output_type": "display_data"
    }
   ],
   "source": [
    "plt.rcParams[\"xtick.labelsize\"] = 1\n",
    "sns.set(style=\"white\", context=\"talk\")\n",
    "x=avg_times['unit_type']\n",
    "y=avg_times['minutes']\n",
    "fig, ax = plt.subplots()\n",
    "fig.set_size_inches(15, 10)\n",
    "g=sns.barplot(x, y, palette=\"OrRd\" )\n",
    "g.set_xticklabels(g.get_xticklabels(),rotation=30)\n",
    "plt.show()\n"
   ]
  }
 ],
 "metadata": {
  "kernelspec": {
   "display_name": "Python 3",
   "language": "python",
   "name": "python3"
  },
  "language_info": {
   "codemirror_mode": {
    "name": "ipython",
    "version": 3
   },
   "file_extension": ".py",
   "mimetype": "text/x-python",
   "name": "python",
   "nbconvert_exporter": "python",
   "pygments_lexer": "ipython3",
   "version": "3.6.3"
  }
 },
 "nbformat": 4,
 "nbformat_minor": 2
}
